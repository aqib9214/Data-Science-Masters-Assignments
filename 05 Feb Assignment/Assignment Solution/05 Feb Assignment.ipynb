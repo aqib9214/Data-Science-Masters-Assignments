{
 "cells": [
  {
   "cell_type": "markdown",
   "id": "98a6a631",
   "metadata": {},
   "source": [
    "Q1. Explain Class and Object with respect to Object-Oriented Programming. Give a suitable example."
   ]
  },
  {
   "cell_type": "markdown",
   "id": "75ed0dc8",
   "metadata": {},
   "source": [
    "In object-oriented programming (OOP), a class is a blueprint or template for\n",
    "creating objects. It defines the attributes (data) and methods (functions) \n",
    "that characterize a particular type of object. An object, on the other hand,\n",
    "is an instance of a class. It represents a specific entity based on the \n",
    "structure defined by its class."
   ]
  },
  {
   "cell_type": "code",
   "execution_count": 1,
   "id": "f6924a07",
   "metadata": {},
   "outputs": [],
   "source": [
    "class pw:\n",
    "    def __init__(self,mail_id):\n",
    "        self.mail_id=mail_id\n",
    "        \n",
    "    def show_mail_id(self):\n",
    "        return self.mail_id"
   ]
  },
  {
   "cell_type": "code",
   "execution_count": 2,
   "id": "9eb1d9ae",
   "metadata": {},
   "outputs": [],
   "source": [
    "kailash=pw(\"kailash@gmail.com\")"
   ]
  },
  {
   "cell_type": "code",
   "execution_count": 3,
   "id": "52562ab3",
   "metadata": {},
   "outputs": [
    {
     "data": {
      "text/plain": [
       "'kailash@gmail.com'"
      ]
     },
     "execution_count": 3,
     "metadata": {},
     "output_type": "execute_result"
    }
   ],
   "source": [
    "kailash.show_mail_id()"
   ]
  },
  {
   "cell_type": "markdown",
   "id": "b043e344",
   "metadata": {},
   "source": [
    "Q2. Name the four pillars of OOPs."
   ]
  },
  {
   "cell_type": "markdown",
   "id": "9a721349",
   "metadata": {},
   "source": [
    "i. Inheritence\n",
    "ii. Polymorphism\n",
    "iii. Encapsulation\n",
    "iv. Abstraction"
   ]
  },
  {
   "cell_type": "markdown",
   "id": "53720cbc",
   "metadata": {},
   "source": [
    "Q3. Explain why the _init_() function is used. Give a suitable example."
   ]
  },
  {
   "cell_type": "markdown",
   "id": "99a4c3e8",
   "metadata": {},
   "source": [
    "In Python, the __init__() function, also known as the constructor method, is\n",
    "used to initialize objects of a class. It is automatically called when a new\n",
    "instance of the class is created. The primary purpose of the __init__() \n",
    "function is to set up the initial state of an object by initializing its \n",
    "attributes."
   ]
  },
  {
   "cell_type": "code",
   "execution_count": 8,
   "id": "59922ebb",
   "metadata": {},
   "outputs": [],
   "source": [
    "class employee:\n",
    "    def __init__(self,mail_id,emp_id):\n",
    "        self.mail_id=mail_id\n",
    "        self.emp_id=emp_id\n",
    "        \n",
    "    def show_details(self):\n",
    "        return self.mail_id,self.emp_id"
   ]
  },
  {
   "cell_type": "code",
   "execution_count": 9,
   "id": "0c78508c",
   "metadata": {},
   "outputs": [],
   "source": [
    "rakulpreet=employee(143,\"rakulpreet@gmail.com\")"
   ]
  },
  {
   "cell_type": "code",
   "execution_count": 10,
   "id": "abed2954",
   "metadata": {},
   "outputs": [
    {
     "data": {
      "text/plain": [
       "(143, 'rakulpreet@gmail.com')"
      ]
     },
     "execution_count": 10,
     "metadata": {},
     "output_type": "execute_result"
    }
   ],
   "source": [
    "rakulpreet.show_details()"
   ]
  },
  {
   "cell_type": "markdown",
   "id": "619276a7",
   "metadata": {},
   "source": [
    "Q4. Why self is used in OOPs?"
   ]
  },
  {
   "cell_type": "markdown",
   "id": "00a20b14",
   "metadata": {},
   "source": [
    "In object-oriented programming (OOP), self is a convention used to represent\n",
    "the instance of the class. It is the first parameter of instance methods in \n",
    "Python, including constructors (__init__() method) and other instance \n",
    "methods. The purpose of self is to allow access to the attributes and \n",
    "methods of the object within the class."
   ]
  },
  {
   "cell_type": "markdown",
   "id": "589c85bb",
   "metadata": {},
   "source": [
    "Q5. What is inheritance? Give an example for each type of inheritance."
   ]
  },
  {
   "cell_type": "markdown",
   "id": "e190855d",
   "metadata": {},
   "source": [
    "Inheritance is a fundamental concept in object-oriented programming (OOP)\n",
    "where a new class (subclass or derived class) is created by inheriting \n",
    "attributes and methods from an existing class (superclass or base class).\n",
    "\n",
    "1.Single Inheritance\n",
    "2.Multiple Inheritance\n",
    "3.Multilevel Inheritance\n",
    "4.Hierarchical Inheritance\n",
    "5.Hybrid (or Virtual) Inheritance"
   ]
  },
  {
   "cell_type": "code",
   "execution_count": 13,
   "id": "03491372",
   "metadata": {},
   "outputs": [
    {
     "name": "stdout",
     "output_type": "stream",
     "text": [
      "Bark\n"
     ]
    }
   ],
   "source": [
    "# Single Inheritence\n",
    "\n",
    "class Animal:\n",
    "    def sound(self):\n",
    "        return \"Some generic sound\"\n",
    "\n",
    "class Dog(Animal):\n",
    "    def sound(self):\n",
    "        return \"Bark\"\n",
    "\n",
    "dog = Dog()\n",
    "print(dog.sound())  # Output: Bark"
   ]
  },
  {
   "cell_type": "code",
   "execution_count": 14,
   "id": "27056178",
   "metadata": {},
   "outputs": [
    {
     "name": "stdout",
     "output_type": "stream",
     "text": [
      "Method 1 of Parent 1\n",
      "Method 2 of Parent 2\n"
     ]
    }
   ],
   "source": [
    "# Multiple Inheritence\n",
    "class Parent1:\n",
    "    def method1(self):\n",
    "        return \"Method 1 of Parent 1\"\n",
    "\n",
    "class Parent2:\n",
    "    def method2(self):\n",
    "        return \"Method 2 of Parent 2\"\n",
    "\n",
    "class Child(Parent1, Parent2):\n",
    "    pass\n",
    "\n",
    "child = Child()\n",
    "print(child.method1())  # Output: Method 1 of Parent 1\n",
    "print(child.method2())  # Output: Method 2 of Parent 2"
   ]
  },
  {
   "cell_type": "code",
   "execution_count": 15,
   "id": "3581d22b",
   "metadata": {},
   "outputs": [
    {
     "name": "stdout",
     "output_type": "stream",
     "text": [
      "Method of Grandparent\n"
     ]
    }
   ],
   "source": [
    "# Multilevel Inheritence\n",
    "class Grandparent:\n",
    "    def method(self):\n",
    "        return \"Method of Grandparent\"\n",
    "\n",
    "class Parent(Grandparent):\n",
    "    pass\n",
    "\n",
    "class Child(Parent):\n",
    "    pass\n",
    "\n",
    "child = Child()\n",
    "print(child.method())  # Output: Method of Grandparent"
   ]
  },
  {
   "cell_type": "code",
   "execution_count": 16,
   "id": "3c4d9f2e",
   "metadata": {},
   "outputs": [
    {
     "name": "stdout",
     "output_type": "stream",
     "text": [
      "Bark\n",
      "Meow\n"
     ]
    }
   ],
   "source": [
    "# Hierarchical Inheritence\n",
    "class Animal:\n",
    "    def sound(self):\n",
    "        return \"Some generic sound\"\n",
    "\n",
    "class Dog(Animal):\n",
    "    def sound(self):\n",
    "        return \"Bark\"\n",
    "\n",
    "class Cat(Animal):\n",
    "    def sound(self):\n",
    "        return \"Meow\"\n",
    "\n",
    "dog = Dog()\n",
    "cat = Cat()\n",
    "print(dog.sound())  # Output: Bark\n",
    "print(cat.sound())  # Output: Meow"
   ]
  },
  {
   "cell_type": "code",
   "execution_count": 17,
   "id": "f691cc67",
   "metadata": {},
   "outputs": [
    {
     "name": "stdout",
     "output_type": "stream",
     "text": [
      "Method 1 of class A\n",
      "Method 2 of class B\n",
      "Method 3 of class C\n"
     ]
    }
   ],
   "source": [
    "# Hybrid Inheritence\n",
    "class A:\n",
    "    def method1(self):\n",
    "        return \"Method 1 of class A\"\n",
    "\n",
    "class B(A):\n",
    "    def method2(self):\n",
    "        return \"Method 2 of class B\"\n",
    "\n",
    "class C(A):\n",
    "    def method3(self):\n",
    "        return \"Method 3 of class C\"\n",
    "\n",
    "class D(B, C):\n",
    "    pass\n",
    "\n",
    "d = D()\n",
    "print(d.method1())  # Output: Method 1 of class A\n",
    "print(d.method2())  # Output: Method 2 of class B\n",
    "print(d.method3())  # Output: Method 3 of class C"
   ]
  },
  {
   "cell_type": "code",
   "execution_count": null,
   "id": "a6747830",
   "metadata": {},
   "outputs": [],
   "source": []
  }
 ],
 "metadata": {
  "kernelspec": {
   "display_name": "Python 3 (ipykernel)",
   "language": "python",
   "name": "python3"
  },
  "language_info": {
   "codemirror_mode": {
    "name": "ipython",
    "version": 3
   },
   "file_extension": ".py",
   "mimetype": "text/x-python",
   "name": "python",
   "nbconvert_exporter": "python",
   "pygments_lexer": "ipython3",
   "version": "3.10.9"
  }
 },
 "nbformat": 4,
 "nbformat_minor": 5
}
